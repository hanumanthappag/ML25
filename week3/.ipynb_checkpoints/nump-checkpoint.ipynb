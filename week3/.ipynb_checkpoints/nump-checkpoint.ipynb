{
 "cells": [
  {
   "cell_type": "markdown",
   "id": "20f61791",
   "metadata": {},
   "source": [
    "# Explore NumPy Module\n",
    "- Array Aggregation Functions\n",
    "- Vectorized Operations\n",
    "- Use Map, Filter, Reduce and Lambda\n",
    "Functions with NumPy"
   ]
  },
  {
   "cell_type": "markdown",
   "id": "91b74399",
   "metadata": {},
   "source": [
    "###Introduction to NumPy Arrays\n",
    "\n",
    "Creating Arrays"
   ]
  },
  {
   "cell_type": "code",
   "execution_count": 3,
   "id": "1893afd4",
   "metadata": {},
   "outputs": [],
   "source": [
    "import numpy as np  # import numpy library"
   ]
  },
  {
   "cell_type": "code",
   "execution_count": null,
   "id": "208b853b",
   "metadata": {},
   "outputs": [
    {
     "name": "stdout",
     "output_type": "stream",
     "text": [
      "[2 3 4 5]\n"
     ]
    }
   ],
   "source": [
    "# Creating 1D array\n",
    "arr1= np.array([2,3,4,5])\n",
    "print(arr1)"
   ]
  },
  {
   "cell_type": "code",
   "execution_count": 6,
   "id": "be7e0c99",
   "metadata": {},
   "outputs": [
    {
     "name": "stdout",
     "output_type": "stream",
     "text": [
      "[[ 1  2  3 90]\n",
      " [ 4  5  6 30]\n",
      " [ 7  8  9 60]]\n"
     ]
    }
   ],
   "source": [
    "# Creating 2D array\n",
    "arr2=np.array([[1,2,3,90],\n",
    "               [4,5,6,30],\n",
    "               [7,8,9,60]])\n",
    "print(arr2)"
   ]
  },
  {
   "cell_type": "code",
   "execution_count": 8,
   "id": "323ed2c9",
   "metadata": {},
   "outputs": [
    {
     "name": "stdout",
     "output_type": "stream",
     "text": [
      "[[[ 1  2  3]\n",
      "  [ 4  5  6]\n",
      "  [ 7  8  9]]\n",
      "\n",
      " [[11 12 13]\n",
      "  [14 15 16]\n",
      "  [17 18 19]]]\n"
     ]
    }
   ],
   "source": [
    "# Creating 3D array\n",
    "arr3=np.array([[[1,2,3],[4,5,6],[7,8,9]],[[11,12,13],[14,15,16],[17,18,19]]])\n",
    "print(arr3)"
   ]
  },
  {
   "cell_type": "code",
   "execution_count": 11,
   "id": "7800825d",
   "metadata": {},
   "outputs": [
    {
     "name": "stdout",
     "output_type": "stream",
     "text": [
      "[[40 50 60 70 50 40]\n",
      " [70 80 80 50 30 20]\n",
      " [50 80 60 40 50 30]]\n"
     ]
    }
   ],
   "source": [
    "#Create a 2D NumPy array with student marks of 6 subjects for 3 students.\n",
    "\n",
    "marks=np.array([[40,50,60,70,50,40],\n",
    "                [70,80,80,50,30,20],\n",
    "                [50,80,60,40,50,30]])\n",
    "print(marks)"
   ]
  },
  {
   "cell_type": "markdown",
   "id": "fe569960",
   "metadata": {},
   "source": [
    " Indexing and Slicing"
   ]
  },
  {
   "cell_type": "code",
   "execution_count": 21,
   "id": "bf3ee195",
   "metadata": {},
   "outputs": [
    {
     "name": "stdout",
     "output_type": "stream",
     "text": [
      "5\n",
      "25\n",
      "[10 15 20]\n",
      "[25 20 15 10  5]\n"
     ]
    }
   ],
   "source": [
    "arr = np.array([5, 10, 15, 20, 25])\n",
    "print(arr[0])       # First element\n",
    "print(arr[-1])      # Last element\n",
    "print(arr[1:4])     # Elements from index 1 to 3\n",
    "print(arr[::-1])    # Reverse array"
   ]
  },
  {
   "cell_type": "code",
   "execution_count": 31,
   "id": "f54453f9",
   "metadata": {},
   "outputs": [
    {
     "name": "stdout",
     "output_type": "stream",
     "text": [
      "25\n",
      "25\n",
      "[40 25 20 23]\n",
      "[40 20]\n",
      "[23 20 25 40 35]\n"
     ]
    }
   ],
   "source": [
    "\n",
    "arr1 = np.array([35, 40, 25, 20, 23])\n",
    "print(arr1[2])\n",
    "print(arr1[-3])\n",
    "print(arr1[1:5])\n",
    "print(arr1[1:5:2])\n",
    "print(arr1[::-1])"
   ]
  },
  {
   "cell_type": "code",
   "execution_count": 3,
   "id": "ac8ef881",
   "metadata": {},
   "outputs": [
    {
     "name": "stdout",
     "output_type": "stream",
     "text": [
      "[[50 60 70]\n",
      " [80 80 50]\n",
      " [80 60 40]]\n"
     ]
    }
   ],
   "source": [
    "marks1=np.array([[40,50,60,70,50,40],\n",
    "                [70,80,80,50,30,20],\n",
    "                [50,80,60,40,50,30]])\n",
    "\n",
    "print(marks1[:,1:4])"
   ]
  },
  {
   "cell_type": "code",
   "execution_count": null,
   "id": "790c7218",
   "metadata": {},
   "outputs": [
    {
     "name": "stdout",
     "output_type": "stream",
     "text": [
      "[0. 0. 0. 0. 0. 0. 0. 0. 0. 0. 0. 0. 0. 0. 0. 0. 0. 0. 0. 0.]\n",
      "[[0. 0. 0. 0. 0.]\n",
      " [0. 0. 0. 0. 0.]\n",
      " [0. 0. 0. 0. 0.]\n",
      " [0. 0. 0. 0. 0.]\n",
      " [0. 0. 0. 0. 0.]]\n",
      "[1. 1. 1. 1. 1. 1. 1. 1. 1. 1. 1. 1. 1. 1. 1. 1. 1. 1. 1. 1.]\n",
      "[[1. 1. 1. 1. 1.]\n",
      " [1. 1. 1. 1. 1.]\n",
      " [1. 1. 1. 1. 1.]\n",
      " [1. 1. 1. 1. 1.]\n",
      " [1. 1. 1. 1. 1.]]\n",
      "[ 0  1  2  3  4  5  6  7  8  9 10 11 12 13 14 15 16 17 18 19 20 21 22 23\n",
      " 24 25 26 27 28 29 30 31 32 33 34 35 36 37 38 39 40 41 42 43 44 45 46 47\n",
      " 48 49]\n",
      "[ 5  6  7  8  9 10 11 12 13 14 15 16 17 18 19 20 21 22 23 24 25 26 27 28\n",
      " 29 30 31 32 33 34 35 36 37 38 39 40 41 42 43 44 45 46 47 48 49]\n",
      "[ 0  2  4  6  8 10 12 14 16 18 20 22 24 26 28 30 32 34 36 38 40 42 44 46\n",
      " 48]\n"
     ]
    }
   ],
   "source": [
    "# Zeros,ones, arange methods in numpy\n",
    "\n",
    "zerosarr=np.zeros(20)\n",
    "print(zerosarr)\n",
    "zeromatrix=np.zeros((5,5))\n",
    "print(zeromatrix)\n",
    "\n",
    "onesarr=np.ones(20)\n",
    "print(onesarr)\n",
    "onesmatrix=np.ones((5,5))\n",
    "print(onesmatrix)\n",
    "\n",
    "sequence=np.arange(50)\n",
    "print(sequence)\n",
    "sequence1=np.arange(5,50)\n",
    "print(sequence1)\n",
    "even=np.arange(0,50,2)\n",
    "print(even)"
   ]
  },
  {
   "cell_type": "markdown",
   "id": "8bb8f46c",
   "metadata": {},
   "source": [
    "### Student Practice Task 1:\n",
    "Create a 1D array of 5 student marks\n",
    "\n",
    "Create a 2D array with 3 students and 3 subjects\n",
    "\n",
    "Use np.arange() to generate roll numbers 101 to 110\n",
    "\n",
    "Create a 1D NumPy array with the values 5, 10, 15, ..., 50."
   ]
  },
  {
   "cell_type": "markdown",
   "id": "7aaedbae",
   "metadata": {},
   "source": [
    "## 2. Array Aggregation Functions"
   ]
  },
  {
   "cell_type": "code",
   "execution_count": 15,
   "id": "37eb5dcb",
   "metadata": {},
   "outputs": [
    {
     "name": "stdout",
     "output_type": "stream",
     "text": [
      "Sum: 150\n",
      "Mean: 30.0\n",
      "Max: 50\n",
      "Min: 10\n",
      "Standard Deviation: 14.142135623730951\n",
      "Variance: 200.0\n"
     ]
    }
   ],
   "source": [
    "arr = np.array([10, 20, 30, 40, 50])\n",
    "\n",
    "print(\"Sum:\", np.sum(arr))\n",
    "print(\"Mean:\", np.mean(arr))\n",
    "print(\"Max:\", np.max(arr))\n",
    "print(\"Min:\", np.min(arr))\n",
    "print(\"Standard Deviation:\", np.std(arr))\n",
    "print(\"Variance:\", np.var(arr))"
   ]
  },
  {
   "cell_type": "markdown",
   "id": "8a58fdf6",
   "metadata": {},
   "source": [
    " ###Task 2\n",
    " * Create a NumPy array of marks scored by 5 students.\n",
    "\n",
    " * Calculate class average, highest and lowest marks using aggregation functions."
   ]
  },
  {
   "cell_type": "code",
   "execution_count": 16,
   "id": "4482e4ba",
   "metadata": {},
   "outputs": [
    {
     "name": "stdout",
     "output_type": "stream",
     "text": [
      "Average marks of the class is:  61.0\n",
      "Highest marks in the class is :  90\n",
      "Lowest marks in the class is :  40\n"
     ]
    }
   ],
   "source": [
    "marks=np.array([60,40,70,90,45])\n",
    "print(\"Average marks of the class is: \",np.mean(marks))\n",
    "print(\"Highest marks in the class is : \", np.max(marks))\n",
    "print(\"Lowest marks in the class is : \", np.min(marks))"
   ]
  },
  {
   "cell_type": "code",
   "execution_count": 20,
   "id": "d23c9615",
   "metadata": {},
   "outputs": [
    {
     "name": "stdout",
     "output_type": "stream",
     "text": [
      "Average marks of the class is:  52.77777777777778\n",
      "Highest marks in the class is :  80\n",
      "Lowest marks in the class is :  20\n"
     ]
    }
   ],
   "source": [
    "marks1=np.array([[40,50,60,70,50,40],\n",
    "                [70,80,80,50,30,20],\n",
    "                [50,80,60,40,50,30]])\n",
    "\n",
    "print(\"Average marks of the class is: \",np.mean(marks1))\n",
    "print(\"Highest marks in the class is : \", np.max(marks1))\n",
    "print(\"Lowest marks in the class is : \", np.min(marks1))"
   ]
  },
  {
   "cell_type": "markdown",
   "id": "b2320ee1",
   "metadata": {},
   "source": [
    " Task 4 – Aggregation on Temperature Readings\n",
    "📌 Question:\n",
    "Create a NumPy array with 7 temperature readings (in Celsius) for a week: [25.5, 26.0, 24.8, 27.3, 28.1, 26.7, 25.9].\n",
    "\n",
    "Find the average temperature of the week\n",
    "\n",
    "Identify the highest and lowest temperature\n",
    "\n",
    "Calculate the temperature range (max - min)"
   ]
  },
  {
   "cell_type": "markdown",
   "id": "8169fd07",
   "metadata": {},
   "source": [
    "##Task 5- Aggregation on Sales Data\n",
    "Question:\n",
    "Create a 2D NumPy array of sales data for 4 products over 3 months:\n",
    "\n",
    "[[1000, 1200, 1100],   # Product A\n",
    " [1500, 1300, 1250],   # Product B\n",
    " [900, 950, 1000],     # Product C\n",
    " [1700, 1600, 1750]]   # Product D\n",
    "Perform the following:\n",
    "\n",
    "Calculate total sales of each product (row-wise sum)\n",
    "\n",
    "Calculate average sales in each month (column-wise mean)\n",
    "\n",
    "Identify which product had the highest total sales"
   ]
  },
  {
   "cell_type": "markdown",
   "id": "da571d8d",
   "metadata": {},
   "source": [
    "## 3. Vectorized Operations in NumPy"
   ]
  },
  {
   "cell_type": "code",
   "execution_count": 19,
   "id": "2cdfdaa1",
   "metadata": {},
   "outputs": [
    {
     "name": "stdout",
     "output_type": "stream",
     "text": [
      "Addition: [11 22 33 44]\n",
      "Multiplication: [ 10  40  90 160]\n",
      "Square: [ 1  4  9 16]\n",
      "Boolean Masking: [False False  True  True]\n"
     ]
    }
   ],
   "source": [
    "a = np.array([1, 2, 3, 4])\n",
    "b = np.array([10, 20, 30, 40])\n",
    "\n",
    "# Element-wise operations\n",
    "print(\"Addition:\", a + b)\n",
    "print(\"Multiplication:\", a * b)\n",
    "print(\"Square:\", a ** 2)\n",
    "print(\"Boolean Masking:\", a > 2)"
   ]
  },
  {
   "cell_type": "code",
   "execution_count": 21,
   "id": "1db753dc",
   "metadata": {},
   "outputs": [
    {
     "name": "stdout",
     "output_type": "stream",
     "text": [
      "Addition: [[ 80 100 120 140 100  80]\n",
      " [140 160 160 100  60  40]\n",
      " [100 160 120  80 100  60]]\n",
      "Multiplication: [[1600 2500 3600 4900 2500 1600]\n",
      " [4900 6400 6400 2500  900  400]\n",
      " [2500 6400 3600 1600 2500  900]]\n",
      "Square: [[1600 2500 3600 4900 2500 1600]\n",
      " [4900 6400 6400 2500  900  400]\n",
      " [2500 6400 3600 1600 2500  900]]\n",
      "Boolean Masking: [[ True  True  True  True  True  True]\n",
      " [ True  True  True  True False False]\n",
      " [ True  True  True  True  True False]]\n"
     ]
    }
   ],
   "source": [
    "marks1=np.array([[40,50,60,70,50,40],\n",
    "                [70,80,80,50,30,20],\n",
    "                [50,80,60,40,50,30]])\n",
    "\n",
    "\n",
    "marks2=np.array([[40,50,60,70,50,40],\n",
    "                [70,80,80,50,30,20],\n",
    "                [50,80,60,40,50,30]])\n",
    "\n",
    "print(\"Addition:\", marks1 + marks2)\n",
    "print(\"Multiplication:\", marks1 * marks2)\n",
    "print(\"Square:\", marks1 ** 2)\n",
    "print(\"Boolean Masking:\", marks1 > 35)"
   ]
  },
  {
   "cell_type": "markdown",
   "id": "12e4fc7a",
   "metadata": {},
   "source": [
    "###Student Task 2:\n",
    "Create arrays price and tax, calculate total_price = price + tax\n",
    "\n",
    "Use vector operations to scale marks (e.g., +5 grace marks)\n",
    "\n",
    "Filter values > 25 using boolean indexing"
   ]
  },
  {
   "cell_type": "markdown",
   "id": "25c118fc",
   "metadata": {},
   "source": [
    "### Task 7 – Percentage Calculation using Vectorized Ops\n",
    "📌 Question:\n",
    "Create a 2D NumPy array with marks of 3 students in 4 subjects:\n",
    "\n",
    "python\n",
    "Copy\n",
    "Edit\n",
    "marks = np.array([\n",
    "    [85, 90, 80, 95],\n",
    "    [70, 60, 75, 65],\n",
    "    [88, 77, 92, 85]\n",
    "])\n",
    "Assume each subject is out of 100. Perform the following using vectorized operations:\n",
    "\n",
    "Calculate total marks for each student\n",
    "\n",
    "Calculate percentage for each student\n",
    "\n",
    "Find students scoring more than 85 in subject 4 (column index 3)\n",
    "\n",
    "📘 Hints:\n",
    "\n",
    "np.sum(marks, axis=1) → row-wise total\n",
    "\n",
    "percentage = (total / 400) * 100\n",
    "\n",
    "marks[:, 3] > 85 → condition on 4th subject"
   ]
  },
  {
   "cell_type": "markdown",
   "id": "dd43de78",
   "metadata": {},
   "source": [
    "###Task 8 – Normalize Data using Vectorized Formula\n",
    "📌 Question:\n",
    "Create a 3x3 array with arbitrary data (e.g., salary data, scores, etc.)\n",
    "\n",
    "data = np.array([\n",
    "    [1200, 1500, 1100],\n",
    "    [1600, 1700, 1800],\n",
    "    [1400, 1350, 1550]\n",
    "])\n",
    "Normalize the data using the formula:\n",
    "\n",
    "normalized = (data - min) / (max - min)\n",
    "Steps:\n",
    "\n",
    "Find min and max of the entire array\n",
    "\n",
    "Use vectorized formula to normalize\n",
    "\n",
    "Print original and normalized data\n",
    "\n",
    "📘 Hint: Use np.min(data) and np.max(data) in your formula."
   ]
  },
  {
   "cell_type": "markdown",
   "id": "89107714",
   "metadata": {},
   "source": [
    "## Functional Programming (map, filter, reduce, lambda)"
   ]
  },
  {
   "cell_type": "code",
   "execution_count": 5,
   "id": "9ed11934",
   "metadata": {},
   "outputs": [
    {
     "name": "stdout",
     "output_type": "stream",
     "text": [
      "25\n"
     ]
    }
   ],
   "source": [
    "#def square(x):\n",
    " #   square=x*x\n",
    "  #  return square\n",
    "\n",
    "\n",
    "#print(square(5))\n",
    "\n",
    "square=lambda x: x*x\n",
    "\n",
    "print(square(5))\n",
    "\n",
    "\n",
    "\n",
    "\n",
    "\n",
    "\n",
    "#square = lambda x: x * x\n",
    "#print(square(5))  # Output: 25\n"
   ]
  },
  {
   "cell_type": "code",
   "execution_count": 47,
   "id": "970bb60d",
   "metadata": {},
   "outputs": [
    {
     "name": "stdout",
     "output_type": "stream",
     "text": [
      "[   1    4    9   16   25  900 2025  441]\n",
      "[ 2  4 30]\n",
      "[ 3  4  5 30 45 21]\n",
      "3402000\n",
      "Squares: [np.int64(1), np.int64(4), np.int64(9), np.int64(16), np.int64(25), np.int64(900), np.int64(2025), np.int64(441)]\n",
      "Evens: [np.int64(2), np.int64(4), np.int64(30)]\n",
      "Product: 3402000\n"
     ]
    }
   ],
   "source": [
    "from functools import reduce\n",
    "import numpy as np\n",
    "\n",
    "arr = np.array([1, 2, 3, 4, 5,30,45,21])\n",
    "\n",
    "grades=np.array(list(map(lambda x:x**2,arr)))\n",
    "print(grades)\n",
    "\n",
    "even=np.array(list(filter(lambda x:x%2==0,arr)))\n",
    "print(even)\n",
    "\n",
    "gt3=np.array(list(filter(lambda x:x>=3,arr)))\n",
    "print(gt3)\n",
    "\n",
    "\n",
    "prod=reduce(lambda x,y:x*y,arr)\n",
    "print(prod)\n",
    "\n",
    "#map: square each element\n",
    "squares = list(map(lambda x: x**2, arr))\n",
    "print(\"Squares:\", squares)\n",
    "\n",
    "# filter: even numbers\n",
    "evens = list(filter(lambda x: x % 2 == 0, arr))\n",
    "print(\"Evens:\", evens)\n",
    "\n",
    "# reduce: product of elements\n",
    "product = reduce(lambda x, y: x * y, arr)\n",
    "print(\"Product:\", product)\n"
   ]
  },
  {
   "cell_type": "markdown",
   "id": "467d221d",
   "metadata": {},
   "source": [
    "##Student Task 4:\n",
    "Use map() to cube each element of [1, 2, 3, 4, 5]\n",
    "\n",
    "Use filter() to extract all numbers greater than 10 from [5, 12, 17, 6, 3]\n",
    "\n",
    "Use reduce() to find the sum of squares of [1, 2, 3, 4]"
   ]
  },
  {
   "cell_type": "markdown",
   "id": "adf213f2",
   "metadata": {},
   "source": [
    "## Student Practice Task 4:\n",
    "Use map() to convert Celsius to Fahrenheit for an array\n",
    "\n",
    "Use filter() to select values greater than 50\n",
    "\n",
    "Use reduce() to find the product of [2, 3, 4]\n",
    "\n",
    "Use lambda to check if a number is prime"
   ]
  },
  {
   "cell_type": "markdown",
   "id": "b4c405f5",
   "metadata": {},
   "source": [
    "## Final Tasks to be completed\n",
    "# 1. Create an array of even numbers from 10 to 50\n",
    "# 2. Find mean, max, min, std\n",
    "# 3. Add 5 to every number (vectorized)\n",
    "# 4. Use map() to cube each number\n",
    "# 5. Use reduce() to find sum of cubes"
   ]
  },
  {
   "cell_type": "code",
   "execution_count": null,
   "id": "5effe2f0",
   "metadata": {},
   "outputs": [],
   "source": []
  }
 ],
 "metadata": {
  "kernelspec": {
   "display_name": "Python 3 (ipykernel)",
   "language": "python",
   "name": "python3"
  },
  "language_info": {
   "codemirror_mode": {
    "name": "ipython",
    "version": 3
   },
   "file_extension": ".py",
   "mimetype": "text/x-python",
   "name": "python",
   "nbconvert_exporter": "python",
   "pygments_lexer": "ipython3",
   "version": "3.11.4"
  }
 },
 "nbformat": 4,
 "nbformat_minor": 5
}
